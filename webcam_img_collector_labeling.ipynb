{
 "cells": [
  {
   "cell_type": "code",
   "execution_count": null,
   "id": "613c659e",
   "metadata": {},
   "outputs": [],
   "source": [
    "import cv2\n",
    "import time\n",
    "import os\n",
    "import uuid"
   ]
  },
  {
   "cell_type": "code",
   "execution_count": null,
   "id": "ab618783",
   "metadata": {},
   "outputs": [],
   "source": [
    "IMAGES_PATH = 'Tensorflow/workspace/images/collectedimages'"
   ]
  },
  {
   "cell_type": "code",
   "execution_count": null,
   "id": "6dceb085",
   "metadata": {},
   "outputs": [],
   "source": [
    "labels = ['hello', 'yes', 'no', 'thankyou', 'love']"
   ]
  },
  {
   "cell_type": "code",
   "execution_count": null,
   "id": "a7e2c381",
   "metadata": {},
   "outputs": [],
   "source": [
    "# setup functions for webcam image capture"
   ]
  },
  {
   "cell_type": "code",
   "execution_count": null,
   "id": "61230353",
   "metadata": {},
   "outputs": [],
   "source": [
    "def record_images(label):\n",
    "    \n",
    "    \"\"\"Press spacebar to capture images, ESC to exit\"\"\"\n",
    "    \n",
    "    os.makedirs('Tensorflow/workspace/images/collectedimages//' + label)\n",
    "\n",
    "    cam = cv2.VideoCapture(0)\n",
    "\n",
    "    cv2.namedWindow(\"test\")\n",
    "\n",
    "    img_counter = 0\n",
    "\n",
    "    while True:\n",
    "        ret, frame = cam.read()\n",
    "        if not ret:\n",
    "            print(\"failed to grab frame\")\n",
    "            break\n",
    "        cv2.imshow(\"test\", frame)\n",
    "\n",
    "        k = cv2.waitKey(1)\n",
    "        if k%256 == 27:\n",
    "            # ESC pressed\n",
    "            print(\"Escape hit, closing...\")\n",
    "            break\n",
    "        elif k%256 == 32:\n",
    "            # SPACE pressed\n",
    "            img_name = os.path.join(IMAGES_PATH, label, label + '{}.jpg'.format(str(uuid.uuid1())))\n",
    "            cv2.imwrite(img_name, frame)\n",
    "            print(\"{} written!\".format(img_name))\n",
    "            img_counter += 1\n",
    "\n",
    "    cam.release()\n",
    "\n",
    "    cv2.destroyAllWindows()"
   ]
  },
  {
   "cell_type": "code",
   "execution_count": null,
   "id": "e0a4b3bc",
   "metadata": {},
   "outputs": [],
   "source": [
    "def auto_record_images(label, number_imgs = 30):\n",
    "    \n",
    "    \"\"\"Automatically captures images after 3 seconds\"\"\"\n",
    "\n",
    "    os.makedirs('Tensorflow/workspace/images/collectedimages//' + label)\n",
    "    cap = cv2.VideoCapture(0)\n",
    "    print('Collecting images for {}'.format(label))\n",
    "    \n",
    "    time.sleep(5)\n",
    "\n",
    "    for imgnum in range(number_imgs):\n",
    "        ret, frame = cap.read()\n",
    "        imagename = os.path.join(IMAGES_PATH, label, label + '{}.jpg'.format(str(uuid.uuid1())))\n",
    "        cv2.imwrite(imagename, frame)\n",
    "        cv2.imshow('frame', frame)\n",
    "        \n",
    "        time.sleep(3)\n",
    "            \n",
    "        print('Captured ' + imagename)\n",
    "        \n",
    "        if cv2.waitKey(1) & 0xFF == ord('q'):\n",
    "            break\n",
    "\n",
    "    cap.release()"
   ]
  },
  {
   "cell_type": "code",
   "execution_count": null,
   "id": "46a21141",
   "metadata": {},
   "outputs": [],
   "source": [
    "record_images('thankyou')"
   ]
  },
  {
   "cell_type": "code",
   "execution_count": null,
   "id": "19d5e789",
   "metadata": {},
   "outputs": [],
   "source": [
    "auto_record_images(label='love')"
   ]
  },
  {
   "cell_type": "code",
   "execution_count": null,
   "id": "afb0deac",
   "metadata": {},
   "outputs": [],
   "source": [
    "# initiate labelimg programme"
   ]
  },
  {
   "cell_type": "code",
   "execution_count": null,
   "id": "0387fd79",
   "metadata": {},
   "outputs": [],
   "source": [
    "LABELIMG_PATH = os.path.join('Tensorflow', 'labelimg')"
   ]
  },
  {
   "cell_type": "code",
   "execution_count": null,
   "id": "d0f82f3a",
   "metadata": {},
   "outputs": [],
   "source": [
    "if not os.path.exists(LABELIMG_PATH):\n",
    "    !mkdir {LABELIMG_PATH}\n",
    "    !git clone https://github.com/tzutalin/labelImg {LABELIMG_PATH}"
   ]
  },
  {
   "cell_type": "code",
   "execution_count": null,
   "id": "2a87c8e7",
   "metadata": {},
   "outputs": [],
   "source": [
    "if os.name == 'posix':\n",
    "    !cd {LABELIMG_PATH} && make qt5py3\n",
    "if os.name == 'nt':\n",
    "    !cd {LABELIMG_PATH} && pyrcc5 -o libs/resources.py resources.qrc"
   ]
  },
  {
   "cell_type": "code",
   "execution_count": null,
   "id": "5ac7b093",
   "metadata": {},
   "outputs": [],
   "source": [
    "!cd {LABELIMG_PATH} && python labelImg.py"
   ]
  },
  {
   "cell_type": "code",
   "execution_count": null,
   "id": "a7ec1a8b",
   "metadata": {},
   "outputs": [],
   "source": []
  }
 ],
 "metadata": {
  "kernelspec": {
   "display_name": "Python [conda env:data-sci] *",
   "language": "python",
   "name": "conda-env-data-sci-py"
  },
  "language_info": {
   "codemirror_mode": {
    "name": "ipython",
    "version": 3
   },
   "file_extension": ".py",
   "mimetype": "text/x-python",
   "name": "python",
   "nbconvert_exporter": "python",
   "pygments_lexer": "ipython3",
   "version": "3.10.4"
  }
 },
 "nbformat": 4,
 "nbformat_minor": 5
}
